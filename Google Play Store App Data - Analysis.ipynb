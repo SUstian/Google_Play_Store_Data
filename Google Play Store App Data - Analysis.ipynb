{
 "cells": [
  {
   "cell_type": "markdown",
   "metadata": {},
   "source": [
    "# Google Play Store App Data - Analysis"
   ]
  },
  {
   "cell_type": "markdown",
   "metadata": {},
   "source": [
    "## Factors to Consider in Order to Increase Downloads"
   ]
  },
  {
   "cell_type": "markdown",
   "metadata": {},
   "source": [
    "For this analysis, we are going to pretend that we're a tech startup that wants to launch a new app. Our company has several different options in the pipeline, and because we're a new company we want our app to have a large number of downloads in order to widely introduce our name and product.  What factors do we need to consider in order to maximize downloads?  For example, how much should we charge? Does the size of our app make a significant difference?  \n",
    "\n",
    "In order to answer these questions, we will be analyzing data scraped from the Google Play Store in August 2018. The full data set can be found [on Kaggle](https://www.kaggle.com/lava18/google-play-store-apps). "
   ]
  },
  {
   "cell_type": "markdown",
   "metadata": {},
   "source": [
    "### Data Import and Initial Cleanup"
   ]
  },
  {
   "cell_type": "markdown",
   "metadata": {},
   "source": [
    "Before we begin our analysis, we need to import and clean our data. We'll start by importing the necessary libraries, and the data itself."
   ]
  },
  {
   "cell_type": "code",
   "execution_count": 62,
   "metadata": {
    "collapsed": true
   },
   "outputs": [],
   "source": [
    "import pandas as pd\n",
    "from matplotlib import pyplot as plt\n",
    "import numpy as np\n",
    "import sqlite3\n",
    "import seaborn as sns\n",
    "%matplotlib inline"
   ]
  },
  {
   "cell_type": "code",
   "execution_count": 63,
   "metadata": {
    "collapsed": true
   },
   "outputs": [],
   "source": [
    "df = pd.read_csv('/Users/alexustian/stacey_learning/googleplaystore.csv', skiprows=[10473])"
   ]
  },
  {
   "cell_type": "markdown",
   "metadata": {},
   "source": [
    "We skipped row 10473 in our import because it contains only 14 columns instead of the expectd 15. Now we can take a look at the first few rows of our data, and do some initial cleanup on anything that obviously needs it."
   ]
  },
  {
   "cell_type": "code",
   "execution_count": 64,
   "metadata": {
    "collapsed": false
   },
   "outputs": [
    {
     "data": {
      "text/html": [
       "<div>\n",
       "<table border=\"1\" class=\"dataframe\">\n",
       "  <thead>\n",
       "    <tr style=\"text-align: right;\">\n",
       "      <th></th>\n",
       "      <th>App</th>\n",
       "      <th>Category</th>\n",
       "      <th>Rating</th>\n",
       "      <th>Reviews</th>\n",
       "      <th>Size</th>\n",
       "      <th>Installs</th>\n",
       "      <th>Type</th>\n",
       "      <th>Price</th>\n",
       "      <th>Content Rating</th>\n",
       "      <th>Genres</th>\n",
       "      <th>Last Updated</th>\n",
       "      <th>Current Ver</th>\n",
       "      <th>Android Ver</th>\n",
       "    </tr>\n",
       "  </thead>\n",
       "  <tbody>\n",
       "    <tr>\n",
       "      <th>0</th>\n",
       "      <td>Photo Editor &amp; Candy Camera &amp; Grid &amp; ScrapBook</td>\n",
       "      <td>ART_AND_DESIGN</td>\n",
       "      <td>4.1</td>\n",
       "      <td>159</td>\n",
       "      <td>19M</td>\n",
       "      <td>10,000+</td>\n",
       "      <td>Free</td>\n",
       "      <td>0</td>\n",
       "      <td>Everyone</td>\n",
       "      <td>Art &amp; Design</td>\n",
       "      <td>January 7, 2018</td>\n",
       "      <td>1.0.0</td>\n",
       "      <td>4.0.3 and up</td>\n",
       "    </tr>\n",
       "    <tr>\n",
       "      <th>1</th>\n",
       "      <td>Coloring book moana</td>\n",
       "      <td>ART_AND_DESIGN</td>\n",
       "      <td>3.9</td>\n",
       "      <td>967</td>\n",
       "      <td>14M</td>\n",
       "      <td>500,000+</td>\n",
       "      <td>Free</td>\n",
       "      <td>0</td>\n",
       "      <td>Everyone</td>\n",
       "      <td>Art &amp; Design;Pretend Play</td>\n",
       "      <td>January 15, 2018</td>\n",
       "      <td>2.0.0</td>\n",
       "      <td>4.0.3 and up</td>\n",
       "    </tr>\n",
       "    <tr>\n",
       "      <th>2</th>\n",
       "      <td>U Launcher Lite – FREE Live Cool Themes, Hide ...</td>\n",
       "      <td>ART_AND_DESIGN</td>\n",
       "      <td>4.7</td>\n",
       "      <td>87510</td>\n",
       "      <td>8.7M</td>\n",
       "      <td>5,000,000+</td>\n",
       "      <td>Free</td>\n",
       "      <td>0</td>\n",
       "      <td>Everyone</td>\n",
       "      <td>Art &amp; Design</td>\n",
       "      <td>August 1, 2018</td>\n",
       "      <td>1.2.4</td>\n",
       "      <td>4.0.3 and up</td>\n",
       "    </tr>\n",
       "    <tr>\n",
       "      <th>3</th>\n",
       "      <td>Sketch - Draw &amp; Paint</td>\n",
       "      <td>ART_AND_DESIGN</td>\n",
       "      <td>4.5</td>\n",
       "      <td>215644</td>\n",
       "      <td>25M</td>\n",
       "      <td>50,000,000+</td>\n",
       "      <td>Free</td>\n",
       "      <td>0</td>\n",
       "      <td>Teen</td>\n",
       "      <td>Art &amp; Design</td>\n",
       "      <td>June 8, 2018</td>\n",
       "      <td>Varies with device</td>\n",
       "      <td>4.2 and up</td>\n",
       "    </tr>\n",
       "    <tr>\n",
       "      <th>4</th>\n",
       "      <td>Pixel Draw - Number Art Coloring Book</td>\n",
       "      <td>ART_AND_DESIGN</td>\n",
       "      <td>4.3</td>\n",
       "      <td>967</td>\n",
       "      <td>2.8M</td>\n",
       "      <td>100,000+</td>\n",
       "      <td>Free</td>\n",
       "      <td>0</td>\n",
       "      <td>Everyone</td>\n",
       "      <td>Art &amp; Design;Creativity</td>\n",
       "      <td>June 20, 2018</td>\n",
       "      <td>1.1</td>\n",
       "      <td>4.4 and up</td>\n",
       "    </tr>\n",
       "  </tbody>\n",
       "</table>\n",
       "</div>"
      ],
      "text/plain": [
       "                                                 App        Category  Rating  \\\n",
       "0     Photo Editor & Candy Camera & Grid & ScrapBook  ART_AND_DESIGN     4.1   \n",
       "1                                Coloring book moana  ART_AND_DESIGN     3.9   \n",
       "2  U Launcher Lite – FREE Live Cool Themes, Hide ...  ART_AND_DESIGN     4.7   \n",
       "3                              Sketch - Draw & Paint  ART_AND_DESIGN     4.5   \n",
       "4              Pixel Draw - Number Art Coloring Book  ART_AND_DESIGN     4.3   \n",
       "\n",
       "   Reviews  Size     Installs  Type Price Content Rating  \\\n",
       "0      159   19M      10,000+  Free     0       Everyone   \n",
       "1      967   14M     500,000+  Free     0       Everyone   \n",
       "2    87510  8.7M   5,000,000+  Free     0       Everyone   \n",
       "3   215644   25M  50,000,000+  Free     0           Teen   \n",
       "4      967  2.8M     100,000+  Free     0       Everyone   \n",
       "\n",
       "                      Genres      Last Updated         Current Ver  \\\n",
       "0               Art & Design   January 7, 2018               1.0.0   \n",
       "1  Art & Design;Pretend Play  January 15, 2018               2.0.0   \n",
       "2               Art & Design    August 1, 2018               1.2.4   \n",
       "3               Art & Design      June 8, 2018  Varies with device   \n",
       "4    Art & Design;Creativity     June 20, 2018                 1.1   \n",
       "\n",
       "    Android Ver  \n",
       "0  4.0.3 and up  \n",
       "1  4.0.3 and up  \n",
       "2  4.0.3 and up  \n",
       "3    4.2 and up  \n",
       "4    4.4 and up  "
      ]
     },
     "execution_count": 64,
     "metadata": {},
     "output_type": "execute_result"
    }
   ],
   "source": [
    "df.head()"
   ]
  },
  {
   "cell_type": "markdown",
   "metadata": {},
   "source": [
    "We can start by stripping the plus sign out of the Installs column, and removing the commas. Additionally, the Genre column appears to contain both a primary and (sometimes) secondary genre, so we can split this into two columns."
   ]
  },
  {
   "cell_type": "code",
   "execution_count": 65,
   "metadata": {
    "collapsed": false
   },
   "outputs": [
    {
     "data": {
      "text/html": [
       "<div>\n",
       "<table border=\"1\" class=\"dataframe\">\n",
       "  <thead>\n",
       "    <tr style=\"text-align: right;\">\n",
       "      <th></th>\n",
       "      <th>App</th>\n",
       "      <th>Category</th>\n",
       "      <th>Rating</th>\n",
       "      <th>Reviews</th>\n",
       "      <th>Size</th>\n",
       "      <th>Installs</th>\n",
       "      <th>Type</th>\n",
       "      <th>Price</th>\n",
       "      <th>Content Rating</th>\n",
       "      <th>Genres</th>\n",
       "      <th>Last Updated</th>\n",
       "      <th>Current Ver</th>\n",
       "      <th>Android Ver</th>\n",
       "      <th>Genre1</th>\n",
       "      <th>Genre2</th>\n",
       "    </tr>\n",
       "  </thead>\n",
       "  <tbody>\n",
       "    <tr>\n",
       "      <th>0</th>\n",
       "      <td>Photo Editor &amp; Candy Camera &amp; Grid &amp; ScrapBook</td>\n",
       "      <td>ART_AND_DESIGN</td>\n",
       "      <td>4.1</td>\n",
       "      <td>159</td>\n",
       "      <td>19M</td>\n",
       "      <td>10000</td>\n",
       "      <td>Free</td>\n",
       "      <td>0</td>\n",
       "      <td>Everyone</td>\n",
       "      <td>Art &amp; Design</td>\n",
       "      <td>January 7, 2018</td>\n",
       "      <td>1.0.0</td>\n",
       "      <td>4.0.3 and up</td>\n",
       "      <td>Art &amp; Design</td>\n",
       "      <td>NaN</td>\n",
       "    </tr>\n",
       "    <tr>\n",
       "      <th>1</th>\n",
       "      <td>Coloring book moana</td>\n",
       "      <td>ART_AND_DESIGN</td>\n",
       "      <td>3.9</td>\n",
       "      <td>967</td>\n",
       "      <td>14M</td>\n",
       "      <td>500000</td>\n",
       "      <td>Free</td>\n",
       "      <td>0</td>\n",
       "      <td>Everyone</td>\n",
       "      <td>Art &amp; Design;Pretend Play</td>\n",
       "      <td>January 15, 2018</td>\n",
       "      <td>2.0.0</td>\n",
       "      <td>4.0.3 and up</td>\n",
       "      <td>Art &amp; Design</td>\n",
       "      <td>Pretend Play</td>\n",
       "    </tr>\n",
       "    <tr>\n",
       "      <th>2</th>\n",
       "      <td>U Launcher Lite – FREE Live Cool Themes, Hide ...</td>\n",
       "      <td>ART_AND_DESIGN</td>\n",
       "      <td>4.7</td>\n",
       "      <td>87510</td>\n",
       "      <td>8.7M</td>\n",
       "      <td>5000000</td>\n",
       "      <td>Free</td>\n",
       "      <td>0</td>\n",
       "      <td>Everyone</td>\n",
       "      <td>Art &amp; Design</td>\n",
       "      <td>August 1, 2018</td>\n",
       "      <td>1.2.4</td>\n",
       "      <td>4.0.3 and up</td>\n",
       "      <td>Art &amp; Design</td>\n",
       "      <td>NaN</td>\n",
       "    </tr>\n",
       "    <tr>\n",
       "      <th>3</th>\n",
       "      <td>Sketch - Draw &amp; Paint</td>\n",
       "      <td>ART_AND_DESIGN</td>\n",
       "      <td>4.5</td>\n",
       "      <td>215644</td>\n",
       "      <td>25M</td>\n",
       "      <td>50000000</td>\n",
       "      <td>Free</td>\n",
       "      <td>0</td>\n",
       "      <td>Teen</td>\n",
       "      <td>Art &amp; Design</td>\n",
       "      <td>June 8, 2018</td>\n",
       "      <td>Varies with device</td>\n",
       "      <td>4.2 and up</td>\n",
       "      <td>Art &amp; Design</td>\n",
       "      <td>NaN</td>\n",
       "    </tr>\n",
       "    <tr>\n",
       "      <th>4</th>\n",
       "      <td>Pixel Draw - Number Art Coloring Book</td>\n",
       "      <td>ART_AND_DESIGN</td>\n",
       "      <td>4.3</td>\n",
       "      <td>967</td>\n",
       "      <td>2.8M</td>\n",
       "      <td>100000</td>\n",
       "      <td>Free</td>\n",
       "      <td>0</td>\n",
       "      <td>Everyone</td>\n",
       "      <td>Art &amp; Design;Creativity</td>\n",
       "      <td>June 20, 2018</td>\n",
       "      <td>1.1</td>\n",
       "      <td>4.4 and up</td>\n",
       "      <td>Art &amp; Design</td>\n",
       "      <td>Creativity</td>\n",
       "    </tr>\n",
       "  </tbody>\n",
       "</table>\n",
       "</div>"
      ],
      "text/plain": [
       "                                                 App        Category  Rating  \\\n",
       "0     Photo Editor & Candy Camera & Grid & ScrapBook  ART_AND_DESIGN     4.1   \n",
       "1                                Coloring book moana  ART_AND_DESIGN     3.9   \n",
       "2  U Launcher Lite – FREE Live Cool Themes, Hide ...  ART_AND_DESIGN     4.7   \n",
       "3                              Sketch - Draw & Paint  ART_AND_DESIGN     4.5   \n",
       "4              Pixel Draw - Number Art Coloring Book  ART_AND_DESIGN     4.3   \n",
       "\n",
       "   Reviews  Size  Installs  Type Price Content Rating  \\\n",
       "0      159   19M     10000  Free     0       Everyone   \n",
       "1      967   14M    500000  Free     0       Everyone   \n",
       "2    87510  8.7M   5000000  Free     0       Everyone   \n",
       "3   215644   25M  50000000  Free     0           Teen   \n",
       "4      967  2.8M    100000  Free     0       Everyone   \n",
       "\n",
       "                      Genres      Last Updated         Current Ver  \\\n",
       "0               Art & Design   January 7, 2018               1.0.0   \n",
       "1  Art & Design;Pretend Play  January 15, 2018               2.0.0   \n",
       "2               Art & Design    August 1, 2018               1.2.4   \n",
       "3               Art & Design      June 8, 2018  Varies with device   \n",
       "4    Art & Design;Creativity     June 20, 2018                 1.1   \n",
       "\n",
       "    Android Ver        Genre1        Genre2  \n",
       "0  4.0.3 and up  Art & Design           NaN  \n",
       "1  4.0.3 and up  Art & Design  Pretend Play  \n",
       "2  4.0.3 and up  Art & Design           NaN  \n",
       "3    4.2 and up  Art & Design           NaN  \n",
       "4    4.4 and up  Art & Design    Creativity  "
      ]
     },
     "execution_count": 65,
     "metadata": {},
     "output_type": "execute_result"
    }
   ],
   "source": [
    "df['Installs'] = df.Installs.str[0:-1]\n",
    "df.Installs = df.Installs.apply(lambda x: x.replace(',',''))\n",
    "genre_split = df['Genres'].str.split(\";\")\n",
    "df['Genre1'] = genre_split.str.get(0)\n",
    "df['Genre2'] = genre_split.str.get(1)\n",
    "df.head()"
   ]
  },
  {
   "cell_type": "markdown",
   "metadata": {},
   "source": [
    "The first few rows of our data set only include free apps, so we can't immediately tell what the values in that column look like.  Let's examine the unique values to see if any cleanup is necessary."
   ]
  },
  {
   "cell_type": "code",
   "execution_count": 66,
   "metadata": {
    "collapsed": false
   },
   "outputs": [
    {
     "data": {
      "text/plain": [
       "array(['0', '$4.99', '$3.99', '$6.99', '$1.49', '$2.99', '$7.99', '$5.99',\n",
       "       '$3.49', '$1.99', '$9.99', '$7.49', '$0.99', '$9.00', '$5.49',\n",
       "       '$10.00', '$24.99', '$11.99', '$79.99', '$16.99', '$14.99', '$1.00',\n",
       "       '$29.99', '$12.99', '$2.49', '$10.99', '$1.50', '$19.99', '$15.99',\n",
       "       '$33.99', '$74.99', '$39.99', '$3.95', '$4.49', '$1.70', '$8.99',\n",
       "       '$2.00', '$3.88', '$25.99', '$399.99', '$17.99', '$400.00', '$3.02',\n",
       "       '$1.76', '$4.84', '$4.77', '$1.61', '$2.50', '$1.59', '$6.49',\n",
       "       '$1.29', '$5.00', '$13.99', '$299.99', '$379.99', '$37.99',\n",
       "       '$18.99', '$389.99', '$19.90', '$8.49', '$1.75', '$14.00', '$4.85',\n",
       "       '$46.99', '$109.99', '$154.99', '$3.08', '$2.59', '$4.80', '$1.96',\n",
       "       '$19.40', '$3.90', '$4.59', '$15.46', '$3.04', '$4.29', '$2.60',\n",
       "       '$3.28', '$4.60', '$28.99', '$2.95', '$2.90', '$1.97', '$200.00',\n",
       "       '$89.99', '$2.56', '$30.99', '$3.61', '$394.99', '$1.26', '$1.20',\n",
       "       '$1.04'], dtype=object)"
      ]
     },
     "execution_count": 66,
     "metadata": {},
     "output_type": "execute_result"
    }
   ],
   "source": [
    "df.Price.unique()"
   ]
  },
  {
   "cell_type": "markdown",
   "metadata": {},
   "source": [
    "From this, we can see that the dollar sign needs to be stripped out, and the data type needs to be changed from object to numeric."
   ]
  },
  {
   "cell_type": "code",
   "execution_count": 67,
   "metadata": {
    "collapsed": true
   },
   "outputs": [],
   "source": [
    "df.Price = df.Price.apply(lambda x: x.strip('$'))\n",
    "df.Price = pd.to_numeric(df.Price)"
   ]
  },
  {
   "cell_type": "markdown",
   "metadata": {},
   "source": [
    "Let's take a quick look at the rest of our data types, to see if anything needs to be changed."
   ]
  },
  {
   "cell_type": "code",
   "execution_count": 68,
   "metadata": {
    "collapsed": false
   },
   "outputs": [
    {
     "name": "stdout",
     "output_type": "stream",
     "text": [
      "<class 'pandas.core.frame.DataFrame'>\n",
      "Int64Index: 10840 entries, 0 to 10839\n",
      "Data columns (total 15 columns):\n",
      "App               10840 non-null object\n",
      "Category          10840 non-null object\n",
      "Rating            9366 non-null float64\n",
      "Reviews           10840 non-null int64\n",
      "Size              10840 non-null object\n",
      "Installs          10840 non-null object\n",
      "Type              10839 non-null object\n",
      "Price             10840 non-null float64\n",
      "Content Rating    10840 non-null object\n",
      "Genres            10840 non-null object\n",
      "Last Updated      10840 non-null object\n",
      "Current Ver       10832 non-null object\n",
      "Android Ver       10838 non-null object\n",
      "Genre1            10840 non-null object\n",
      "Genre2            498 non-null object\n",
      "dtypes: float64(2), int64(1), object(12)\n",
      "memory usage: 1.3+ MB\n"
     ]
    }
   ],
   "source": [
    "df.info()"
   ]
  },
  {
   "cell_type": "markdown",
   "metadata": {},
   "source": [
    "There are several columns that can be converted to either numeric or datetime data types. (NOTE: We will be taking a closer look at the size column later, and will do that cleanup in a later section.)"
   ]
  },
  {
   "cell_type": "code",
   "execution_count": 69,
   "metadata": {
    "collapsed": false
   },
   "outputs": [
    {
     "name": "stdout",
     "output_type": "stream",
     "text": [
      "<class 'pandas.core.frame.DataFrame'>\n",
      "Int64Index: 10840 entries, 0 to 10839\n",
      "Data columns (total 15 columns):\n",
      "App               10840 non-null object\n",
      "Category          10840 non-null object\n",
      "Rating            9366 non-null float64\n",
      "Reviews           10840 non-null int64\n",
      "Size              10840 non-null object\n",
      "Installs          10839 non-null float64\n",
      "Type              10839 non-null object\n",
      "Price             10840 non-null float64\n",
      "Content Rating    10840 non-null object\n",
      "Genres            10840 non-null object\n",
      "Last Updated      10840 non-null datetime64[ns]\n",
      "Current Ver       10832 non-null object\n",
      "Android Ver       10838 non-null object\n",
      "Genre1            10840 non-null object\n",
      "Genre2            498 non-null object\n",
      "dtypes: datetime64[ns](1), float64(3), int64(1), object(10)\n",
      "memory usage: 1.3+ MB\n"
     ]
    }
   ],
   "source": [
    "from datetime import datetime,date\n",
    "df['Last Updated'] = pd.to_datetime(df['Last Updated'])\n",
    "df.Installs = pd.to_numeric(df.Installs)\n",
    "df.Reviews = pd.to_numeric(df.Reviews)\n",
    "df.info()"
   ]
  },
  {
   "cell_type": "markdown",
   "metadata": {},
   "source": [
    "Before we begin our analysis, let's just make sure that there aren't any duplicate rows in our data. Some of the numbers (like the Installs column) are quite large, and so duplicate values could skew the analysis."
   ]
  },
  {
   "cell_type": "code",
   "execution_count": 70,
   "metadata": {
    "collapsed": false
   },
   "outputs": [
    {
     "data": {
      "text/plain": [
       "0        False\n",
       "1        False\n",
       "2        False\n",
       "3        False\n",
       "4        False\n",
       "5        False\n",
       "6        False\n",
       "7        False\n",
       "8        False\n",
       "9        False\n",
       "10       False\n",
       "11       False\n",
       "12       False\n",
       "13       False\n",
       "14       False\n",
       "15       False\n",
       "16       False\n",
       "17       False\n",
       "18       False\n",
       "19       False\n",
       "20       False\n",
       "21       False\n",
       "22       False\n",
       "23       False\n",
       "24       False\n",
       "25       False\n",
       "26       False\n",
       "27       False\n",
       "28       False\n",
       "29       False\n",
       "         ...  \n",
       "10810    False\n",
       "10811    False\n",
       "10812    False\n",
       "10813    False\n",
       "10814    False\n",
       "10815    False\n",
       "10816    False\n",
       "10817    False\n",
       "10818    False\n",
       "10819    False\n",
       "10820    False\n",
       "10821    False\n",
       "10822    False\n",
       "10823    False\n",
       "10824    False\n",
       "10825    False\n",
       "10826    False\n",
       "10827    False\n",
       "10828    False\n",
       "10829    False\n",
       "10830    False\n",
       "10831    False\n",
       "10832    False\n",
       "10833    False\n",
       "10834    False\n",
       "10835    False\n",
       "10836    False\n",
       "10837    False\n",
       "10838    False\n",
       "10839    False\n",
       "dtype: bool"
      ]
     },
     "execution_count": 70,
     "metadata": {},
     "output_type": "execute_result"
    }
   ],
   "source": [
    "df.duplicated(subset='App')"
   ]
  },
  {
   "cell_type": "markdown",
   "metadata": {},
   "source": [
    "We can see from this output that there are some duplicates, so those can be removed."
   ]
  },
  {
   "cell_type": "code",
   "execution_count": 71,
   "metadata": {
    "collapsed": true
   },
   "outputs": [],
   "source": [
    "df.drop_duplicates(subset='App', keep='first', inplace=True)"
   ]
  },
  {
   "cell_type": "markdown",
   "metadata": {},
   "source": [
    "### Optimal Price Point(s) to Maximize Downloads"
   ]
  },
  {
   "cell_type": "markdown",
   "metadata": {},
   "source": [
    "Now that our data is cleaned up, we can work on our analysis. Let's first consider pricing.  Our end goal is to get as many people as possible to download the app, so we need to determine how to price our app in order to achieve that.\n",
    "\n",
    "We can begin by taking a look at the values in the Price column, and running a quick plot to see how they are distributed."
   ]
  },
  {
   "cell_type": "code",
   "execution_count": 72,
   "metadata": {
    "collapsed": false
   },
   "outputs": [
    {
     "data": {
      "text/plain": [
       "array([   0.  ,    4.99,    3.99,    6.99,    1.49,    2.99,    7.99,\n",
       "          5.99,    3.49,    1.99,    9.99,    7.49,    0.99,    9.  ,\n",
       "          5.49,   10.  ,   24.99,   11.99,   79.99,   16.99,   14.99,\n",
       "          1.  ,   29.99,   12.99,    2.49,   10.99,    1.5 ,   19.99,\n",
       "         15.99,   33.99,   74.99,   39.99,    3.95,    4.49,    1.7 ,\n",
       "          8.99,    2.  ,    3.88,   25.99,  399.99,   17.99,  400.  ,\n",
       "          3.02,    1.76,    4.84,    4.77,    1.61,    2.5 ,    1.59,\n",
       "          6.49,    1.29,    5.  ,   13.99,  299.99,  379.99,   37.99,\n",
       "         18.99,  389.99,   19.9 ,    8.49,    1.75,   14.  ,    4.85,\n",
       "         46.99,  109.99,  154.99,    3.08,    2.59,    4.8 ,    1.96,\n",
       "         19.4 ,    3.9 ,    4.59,   15.46,    3.04,    4.29,    2.6 ,\n",
       "          3.28,    4.6 ,   28.99,    2.95,    2.9 ,    1.97,  200.  ,\n",
       "         89.99,    2.56,   30.99,    3.61,  394.99,    1.26,    1.2 ,\n",
       "          1.04])"
      ]
     },
     "execution_count": 72,
     "metadata": {},
     "output_type": "execute_result"
    }
   ],
   "source": [
    "df.Price.unique()"
   ]
  },
  {
   "cell_type": "code",
   "execution_count": 73,
   "metadata": {
    "collapsed": false
   },
   "outputs": [
    {
     "data": {
      "image/png": "[encoded data removed]",
      "text/plain": [
       "<matplotlib.figure.Figure at 0x104dca890>"
      ]
     },
     "metadata": {},
     "output_type": "display_data"
    }
   ],
   "source": [
    "x = df.Price\n",
    "plt.hist(x);"
   ]
  },
  {
   "cell_type": "markdown",
   "metadata": {},
   "source": [
    "We can see from the list of values that there are apps priced as high as \\$399.99(!), but the histogram shows us that the vast majority of the apps are priced lower than $50.\n",
    "\n",
    "Let's assume the decision was made at our imaginary startup that we need to charge at least something (i.e., no free app) in order to earn some revenue to help our company grow, but that we also want to keep the price at or below $5. We can now focus our analysis on apps that fall in that range, and determine how price affects the number of downloads.\n",
    "\n",
    "We'll start by pulling out the subsection of apps priced under five dollars, and then we'll group them by price and sum the number of installs per price point."
   ]
  },
  {
   "cell_type": "code",
   "execution_count": 74,
   "metadata": {
    "collapsed": false
   },
   "outputs": [],
   "source": [
    "apps_under_five = df[(df.Price < 5) & (df.Price > 0)]"
   ]
  },
  {
   "cell_type": "code",
   "execution_count": 75,
   "metadata": {
    "collapsed": false
   },
   "outputs": [
    {
     "name": "stdout",
     "output_type": "stream",
     "text": [
      "Price\n",
      "0.99    19387373\n",
      "1.00       10500\n",
      "1.04          50\n",
      "1.20       10000\n",
      "1.26         100\n",
      "1.29        1000\n",
      "1.49      293159\n",
      "1.50        1000\n",
      "1.59       10000\n",
      "1.61        1000\n",
      "1.70        2000\n",
      "1.75          50\n",
      "1.76          50\n",
      "1.96          10\n",
      "1.97       10000\n",
      "1.99     4001131\n",
      "2.00         560\n",
      "2.49     1738831\n",
      "2.50       10000\n",
      "2.56        1000\n",
      "2.59       10000\n",
      "2.60          50\n",
      "2.90      100000\n",
      "2.95       10000\n",
      "2.99    10190022\n",
      "3.02         100\n",
      "3.04          10\n",
      "3.08        1000\n",
      "3.28       10000\n",
      "3.49      211610\n",
      "3.61          10\n",
      "3.88         100\n",
      "3.90       10000\n",
      "3.95      100000\n",
      "3.99     1609251\n",
      "4.29        1000\n",
      "4.49      416600\n",
      "4.59         100\n",
      "4.60        5000\n",
      "4.77       50000\n",
      "4.80          10\n",
      "4.84        1000\n",
      "4.85          50\n",
      "4.99     3434680\n",
      "Name: Installs, dtype: float64\n"
     ]
    }
   ],
   "source": [
    "installs_under_five = apps_under_five.groupby('Price').Installs.sum()\n",
    "print installs_under_five"
   ]
  },
  {
   "cell_type": "markdown",
   "metadata": {},
   "source": [
    "This looks good, but it would be more helpful to have the values grouped into a smaller number of \"buckets\". Therefore, we'll now add a column to our data frame in order to identify the apps' price categories. Even though we're now focusing on apps under five dollars, we'll go ahead add the column to the full data frame in case that information will be useful to have in the future."
   ]
  },
  {
   "cell_type": "code",
   "execution_count": 76,
   "metadata": {
    "collapsed": false
   },
   "outputs": [
    {
     "data": {
      "text/html": [
       "<div>\n",
       "<table border=\"1\" class=\"dataframe\">\n",
       "  <thead>\n",
       "    <tr style=\"text-align: right;\">\n",
       "      <th></th>\n",
       "      <th>App</th>\n",
       "      <th>Category</th>\n",
       "      <th>Rating</th>\n",
       "      <th>Reviews</th>\n",
       "      <th>Size</th>\n",
       "      <th>Installs</th>\n",
       "      <th>Type</th>\n",
       "      <th>Price</th>\n",
       "      <th>Content Rating</th>\n",
       "      <th>Genres</th>\n",
       "      <th>Last Updated</th>\n",
       "      <th>Current Ver</th>\n",
       "      <th>Android Ver</th>\n",
       "      <th>Genre1</th>\n",
       "      <th>Genre2</th>\n",
       "      <th>Price_Cat</th>\n",
       "    </tr>\n",
       "  </thead>\n",
       "  <tbody>\n",
       "    <tr>\n",
       "      <th>0</th>\n",
       "      <td>Photo Editor &amp; Candy Camera &amp; Grid &amp; ScrapBook</td>\n",
       "      <td>ART_AND_DESIGN</td>\n",
       "      <td>4.1</td>\n",
       "      <td>159</td>\n",
       "      <td>19M</td>\n",
       "      <td>10000</td>\n",
       "      <td>Free</td>\n",
       "      <td>0</td>\n",
       "      <td>Everyone</td>\n",
       "      <td>Art &amp; Design</td>\n",
       "      <td>2018-01-07</td>\n",
       "      <td>1.0.0</td>\n",
       "      <td>4.0.3 and up</td>\n",
       "      <td>Art &amp; Design</td>\n",
       "      <td>NaN</td>\n",
       "      <td>Free</td>\n",
       "    </tr>\n",
       "    <tr>\n",
       "      <th>1</th>\n",
       "      <td>Coloring book moana</td>\n",
       "      <td>ART_AND_DESIGN</td>\n",
       "      <td>3.9</td>\n",
       "      <td>967</td>\n",
       "      <td>14M</td>\n",
       "      <td>500000</td>\n",
       "      <td>Free</td>\n",
       "      <td>0</td>\n",
       "      <td>Everyone</td>\n",
       "      <td>Art &amp; Design;Pretend Play</td>\n",
       "      <td>2018-01-15</td>\n",
       "      <td>2.0.0</td>\n",
       "      <td>4.0.3 and up</td>\n",
       "      <td>Art &amp; Design</td>\n",
       "      <td>Pretend Play</td>\n",
       "      <td>Free</td>\n",
       "    </tr>\n",
       "    <tr>\n",
       "      <th>2</th>\n",
       "      <td>U Launcher Lite – FREE Live Cool Themes, Hide ...</td>\n",
       "      <td>ART_AND_DESIGN</td>\n",
       "      <td>4.7</td>\n",
       "      <td>87510</td>\n",
       "      <td>8.7M</td>\n",
       "      <td>5000000</td>\n",
       "      <td>Free</td>\n",
       "      <td>0</td>\n",
       "      <td>Everyone</td>\n",
       "      <td>Art &amp; Design</td>\n",
       "      <td>2018-08-01</td>\n",
       "      <td>1.2.4</td>\n",
       "      <td>4.0.3 and up</td>\n",
       "      <td>Art &amp; Design</td>\n",
       "      <td>NaN</td>\n",
       "      <td>Free</td>\n",
       "    </tr>\n",
       "    <tr>\n",
       "      <th>3</th>\n",
       "      <td>Sketch - Draw &amp; Paint</td>\n",
       "      <td>ART_AND_DESIGN</td>\n",
       "      <td>4.5</td>\n",
       "      <td>215644</td>\n",
       "      <td>25M</td>\n",
       "      <td>50000000</td>\n",
       "      <td>Free</td>\n",
       "      <td>0</td>\n",
       "      <td>Teen</td>\n",
       "      <td>Art &amp; Design</td>\n",
       "      <td>2018-06-08</td>\n",
       "      <td>Varies with device</td>\n",
       "      <td>4.2 and up</td>\n",
       "      <td>Art &amp; Design</td>\n",
       "      <td>NaN</td>\n",
       "      <td>Free</td>\n",
       "    </tr>\n",
       "    <tr>\n",
       "      <th>4</th>\n",
       "      <td>Pixel Draw - Number Art Coloring Book</td>\n",
       "      <td>ART_AND_DESIGN</td>\n",
       "      <td>4.3</td>\n",
       "      <td>967</td>\n",
       "      <td>2.8M</td>\n",
       "      <td>100000</td>\n",
       "      <td>Free</td>\n",
       "      <td>0</td>\n",
       "      <td>Everyone</td>\n",
       "      <td>Art &amp; Design;Creativity</td>\n",
       "      <td>2018-06-20</td>\n",
       "      <td>1.1</td>\n",
       "      <td>4.4 and up</td>\n",
       "      <td>Art &amp; Design</td>\n",
       "      <td>Creativity</td>\n",
       "      <td>Free</td>\n",
       "    </tr>\n",
       "  </tbody>\n",
       "</table>\n",
       "</div>"
      ],
      "text/plain": [
       "                                                 App        Category  Rating  \\\n",
       "0     Photo Editor & Candy Camera & Grid & ScrapBook  ART_AND_DESIGN     4.1   \n",
       "1                                Coloring book moana  ART_AND_DESIGN     3.9   \n",
       "2  U Launcher Lite – FREE Live Cool Themes, Hide ...  ART_AND_DESIGN     4.7   \n",
       "3                              Sketch - Draw & Paint  ART_AND_DESIGN     4.5   \n",
       "4              Pixel Draw - Number Art Coloring Book  ART_AND_DESIGN     4.3   \n",
       "\n",
       "   Reviews  Size  Installs  Type  Price Content Rating  \\\n",
       "0      159   19M     10000  Free      0       Everyone   \n",
       "1      967   14M    500000  Free      0       Everyone   \n",
       "2    87510  8.7M   5000000  Free      0       Everyone   \n",
       "3   215644   25M  50000000  Free      0           Teen   \n",
       "4      967  2.8M    100000  Free      0       Everyone   \n",
       "\n",
       "                      Genres Last Updated         Current Ver   Android Ver  \\\n",
       "0               Art & Design   2018-01-07               1.0.0  4.0.3 and up   \n",
       "1  Art & Design;Pretend Play   2018-01-15               2.0.0  4.0.3 and up   \n",
       "2               Art & Design   2018-08-01               1.2.4  4.0.3 and up   \n",
       "3               Art & Design   2018-06-08  Varies with device    4.2 and up   \n",
       "4    Art & Design;Creativity   2018-06-20                 1.1    4.4 and up   \n",
       "\n",
       "         Genre1        Genre2 Price_Cat  \n",
       "0  Art & Design           NaN      Free  \n",
       "1  Art & Design  Pretend Play      Free  \n",
       "2  Art & Design           NaN      Free  \n",
       "3  Art & Design           NaN      Free  \n",
       "4  Art & Design    Creativity      Free  "
      ]
     },
     "execution_count": 76,
     "metadata": {},
     "output_type": "execute_result"
    }
   ],
   "source": [
    "def add_price_cat(row):\n",
    "    if row[\"Price\"] == 0:\n",
    "        return \"Free\"\n",
    "    elif row[\"Price\"] < 1:\n",
    "        return \"0-1 Dollar\"\n",
    "    elif row[\"Price\"] < 2:\n",
    "        return \"1-2 Dollars\"\n",
    "    elif row[\"Price\"] < 3:\n",
    "        return \"2-3 Dollars\"\n",
    "    elif row[\"Price\"] < 4:\n",
    "        return \"3-4 Dollars\"\n",
    "    elif row[\"Price\"] < 5:\n",
    "        return \"4-5 Dollars\"\n",
    "    else:\n",
    "        return \"Over Five Dollars\"\n",
    "\n",
    "df = df.assign(action=df.apply(add_price_cat, axis=1))\n",
    "df.rename(columns={'action': 'Price_Cat'}, inplace=True)\n",
    "df.head()"
   ]
  },
  {
   "cell_type": "code",
   "execution_count": 77,
   "metadata": {
    "collapsed": false
   },
   "outputs": [
    {
     "data": {
      "text/plain": [
       "array(['Free', '4-5 Dollars', '3-4 Dollars', 'Over Five Dollars',\n",
       "       '1-2 Dollars', '2-3 Dollars', '0-1 Dollar'], dtype=object)"
      ]
     },
     "execution_count": 77,
     "metadata": {},
     "output_type": "execute_result"
    }
   ],
   "source": [
    "df.Price_Cat.unique()"
   ]
  },
  {
   "cell_type": "markdown",
   "metadata": {},
   "source": [
    "It looks like our price categorization was successful. We can now plot this data to look for trends. In order to make our plotting easier, we'll run a SQL query, which will pull a sorted table with column headers."
   ]
  },
  {
   "cell_type": "code",
   "execution_count": 78,
   "metadata": {
    "collapsed": false
   },
   "outputs": [
    {
     "name": "stderr",
     "output_type": "stream",
     "text": [
      "/Library/Python/2.7/site-packages/ipykernel/__main__.py:3: UserWarning: The spaces in these column names will not be changed. In pandas versions < 0.14, spaces were converted to underscores.\n",
      "  app.launch_new_instance()\n"
     ]
    }
   ],
   "source": [
    "conn = sqlite3.connect(\"Ustian_Database.db\")\n",
    "conn.text_factory = str\n",
    "df.to_sql('appdata', conn, if_exists='replace')"
   ]
  },
  {
   "cell_type": "code",
   "execution_count": 79,
   "metadata": {
    "collapsed": false
   },
   "outputs": [
    {
     "name": "stdout",
     "output_type": "stream",
     "text": [
      "     Price_Cat  Installs\n",
      "0   0-1 Dollar  19387373\n",
      "1  1-2 Dollars   4340050\n",
      "2  2-3 Dollars  12060463\n",
      "3  3-4 Dollars   1942081\n",
      "4  4-5 Dollars   3908440\n"
     ]
    }
   ],
   "source": [
    "installs_by_price = pd.read_sql('SELECT Price_Cat, SUM(Installs) as Installs \\\n",
    "            FROM appdata \\\n",
    "            WHERE Price_Cat != \"Free\" \\\n",
    "            AND Price_Cat != \"Over Five Dollars\" \\\n",
    "            GROUP BY 1 \\\n",
    "            ORDER BY 1 \\\n",
    "            LIMIT 10', conn)\n",
    "\n",
    "print installs_by_price"
   ]
  },
  {
   "cell_type": "markdown",
   "metadata": {},
   "source": [
    "And now we can plot our data."
   ]
  },
  {
   "cell_type": "code",
   "execution_count": 80,
   "metadata": {
    "collapsed": false
   },
   "outputs": [
    {
     "data": {
      "image/png": "[encoded data removed]",
      "text/plain": [
       "<matplotlib.figure.Figure at 0x1047fd0d0>"
      ]
     },
     "metadata": {},
     "output_type": "display_data"
    }
   ],
   "source": [
    "labels = ['$0.01-$0.99', '$1-$1.99', '$2-$2.99', '$3-$3.99','$4-$4.99']\n",
    "x = range(len(labels))\n",
    "y = installs_by_price['Installs']\n",
    "\n",
    "plt.figure(figsize=(8, 6))\n",
    "ax = plt.subplot()\n",
    "plt.bar(x, y, color='darkcyan')\n",
    "\n",
    "ax.set_xticks(range(len(labels)))\n",
    "ax.set_xticks([float(n)+0.5 for n in ax.get_xticks()])\n",
    "ax.set_xticklabels(labels)\n",
    "\n",
    "plt.xlabel('Price Range')\n",
    "plt.ylabel('Number of Installs (mm)')\n",
    "plt.title('App Downloads by Price Range', fontdict = {'fontsize' : 15});"
   ]
  },
  {
   "cell_type": "markdown",
   "metadata": {},
   "source": [
    "We can see from this chart that apps priced under a dollar have the highest number of downloads, followed by apps in the \\$2-2.99 range.\n",
    "\n",
    "We could also plot this using Seaborn, if we wanted to utilize its color palettes."
   ]
  },
  {
   "cell_type": "code",
   "execution_count": 81,
   "metadata": {
    "collapsed": false
   },
   "outputs": [
    {
     "data": {
      "image/png": "[encoded data removed]",
      "text/plain": [
       "<matplotlib.figure.Figure at 0x1054a0910>"
      ]
     },
     "metadata": {},
     "output_type": "display_data"
    }
   ],
   "source": [
    "sns.set_palette('bright')\n",
    "sns.barplot(data=installs_by_price, x='Price_Cat', y='Installs', estimator=sum)\n",
    "ax = plt.subplot()\n",
    "ax.set_xticklabels(labels)\n",
    "plt.xlabel('Price Range')\n",
    "plt.ylabel('Number of Installs (mm)')\n",
    "plt.title('App Downloads by Price Range');"
   ]
  },
  {
   "cell_type": "markdown",
   "metadata": {},
   "source": [
    "### Optimal App Size(s) to Maximize Downloads"
   ]
  },
  {
   "cell_type": "markdown",
   "metadata": {},
   "source": [
    "Our imaginary startup has several viable options for what app to release.  Now that we know that it should be priced under \\$3.00, we want to see if app size has any influence on the number of downloads.  If it does, we can keep this under consideration as we build our new app.\n",
    "\n",
    "Before we begin our analysis, let's take a closer look at the Size column, which was not cleaned up earlier."
   ]
  },
  {
   "cell_type": "code",
   "execution_count": 82,
   "metadata": {
    "collapsed": false
   },
   "outputs": [
    {
     "data": {
      "text/plain": [
       "array(['19M', '14M', '8.7M', '25M', '2.8M', '5.6M', '29M', '33M', '3.1M',\n",
       "       '28M', '12M', '20M', '21M', '37M', '2.7M', '5.5M', '17M', '39M',\n",
       "       '31M', '4.2M', '7.0M', '23M', '6.0M', '6.1M', '4.6M', '9.2M',\n",
       "       '5.2M', '11M', '24M', 'Varies with device', '9.4M', '15M', '10M',\n",
       "       '1.2M', '26M', '8.0M', '7.9M', '56M', '57M', '35M', '54M', '201k',\n",
       "       '3.6M', '5.7M', '8.6M', '2.4M', '27M', '2.5M', '16M', '3.4M',\n",
       "       '8.9M', '3.9M', '2.9M', '38M', '32M', '5.4M', '18M', '1.1M', '2.2M',\n",
       "       '4.5M', '9.8M', '52M', '9.0M', '6.7M', '30M', '2.6M', '7.1M',\n",
       "       '3.7M', '22M', '7.4M', '6.4M', '3.2M', '8.2M', '9.9M', '4.9M',\n",
       "       '9.5M', '5.0M', '5.9M', '13M', '73M', '6.8M', '3.5M', '4.0M',\n",
       "       '2.3M', '7.2M', '2.1M', '42M', '7.3M', '9.1M', '55M', '23k', '6.5M',\n",
       "       '1.5M', '7.5M', '51M', '41M', '48M', '8.5M', '46M', '8.3M', '4.3M',\n",
       "       '4.7M', '3.3M', '40M', '7.8M', '8.8M', '6.6M', '5.1M', '61M', '66M',\n",
       "       '79k', '8.4M', '118k', '44M', '695k', '1.6M', '6.2M', '18k', '53M',\n",
       "       '1.4M', '3.0M', '5.8M', '3.8M', '9.6M', '45M', '63M', '49M', '77M',\n",
       "       '4.4M', '4.8M', '70M', '6.9M', '9.3M', '10.0M', '8.1M', '36M',\n",
       "       '84M', '97M', '2.0M', '1.9M', '1.8M', '5.3M', '47M', '556k', '526k',\n",
       "       '76M', '7.6M', '59M', '9.7M', '78M', '72M', '43M', '7.7M', '6.3M',\n",
       "       '334k', '34M', '93M', '65M', '79M', '100M', '58M', '50M', '68M',\n",
       "       '64M', '67M', '60M', '94M', '232k', '99M', '624k', '95M', '8.5k',\n",
       "       '41k', '292k', '11k', '80M', '1.7M', '74M', '62M', '69M', '75M',\n",
       "       '98M', '85M', '82M', '96M', '87M', '71M', '86M', '91M', '81M',\n",
       "       '92M', '83M', '88M', '704k', '862k', '899k', '378k', '266k', '375k',\n",
       "       '1.3M', '975k', '980k', '4.1M', '89M', '696k', '544k', '525k',\n",
       "       '920k', '779k', '853k', '720k', '713k', '772k', '318k', '58k',\n",
       "       '241k', '196k', '857k', '51k', '953k', '865k', '251k', '930k',\n",
       "       '540k', '313k', '746k', '203k', '26k', '314k', '239k', '371k',\n",
       "       '220k', '730k', '756k', '91k', '293k', '17k', '74k', '14k', '317k',\n",
       "       '78k', '924k', '902k', '818k', '81k', '939k', '169k', '45k', '475k',\n",
       "       '965k', '90M', '545k', '61k', '283k', '655k', '714k', '93k', '872k',\n",
       "       '121k', '322k', '1.0M', '976k', '172k', '238k', '549k', '206k',\n",
       "       '954k', '444k', '717k', '210k', '609k', '308k', '705k', '306k',\n",
       "       '904k', '473k', '175k', '350k', '383k', '454k', '421k', '70k',\n",
       "       '812k', '442k', '842k', '417k', '412k', '459k', '478k', '335k',\n",
       "       '782k', '721k', '430k', '429k', '192k', '200k', '460k', '728k',\n",
       "       '496k', '816k', '414k', '506k', '887k', '613k', '243k', '569k',\n",
       "       '778k', '683k', '592k', '319k', '186k', '840k', '647k', '191k',\n",
       "       '373k', '437k', '598k', '716k', '585k', '982k', '222k', '219k',\n",
       "       '55k', '948k', '323k', '691k', '511k', '951k', '963k', '25k',\n",
       "       '554k', '351k', '27k', '82k', '208k', '913k', '514k', '551k', '29k',\n",
       "       '103k', '898k', '743k', '116k', '153k', '209k', '353k', '499k',\n",
       "       '173k', '597k', '809k', '122k', '411k', '400k', '801k', '787k',\n",
       "       '237k', '50k', '643k', '986k', '97k', '516k', '837k', '780k',\n",
       "       '961k', '269k', '20k', '498k', '600k', '749k', '642k', '881k',\n",
       "       '72k', '656k', '601k', '221k', '228k', '108k', '940k', '176k',\n",
       "       '33k', '663k', '34k', '942k', '259k', '164k', '458k', '245k',\n",
       "       '629k', '28k', '288k', '775k', '785k', '636k', '916k', '994k',\n",
       "       '309k', '485k', '914k', '903k', '608k', '500k', '54k', '562k',\n",
       "       '847k', '957k', '688k', '811k', '270k', '48k', '329k', '523k',\n",
       "       '921k', '874k', '981k', '784k', '280k', '24k', '518k', '754k',\n",
       "       '892k', '154k', '860k', '364k', '387k', '626k', '161k', '879k',\n",
       "       '39k', '970k', '170k', '141k', '160k', '144k', '143k', '190k',\n",
       "       '376k', '193k', '246k', '73k', '658k', '992k', '253k', '420k',\n",
       "       '404k', '470k', '226k', '240k', '89k', '234k', '257k', '861k',\n",
       "       '467k', '157k', '44k', '676k', '67k', '552k', '885k', '1020k',\n",
       "       '582k', '619k'], dtype=object)"
      ]
     },
     "execution_count": 82,
     "metadata": {},
     "output_type": "execute_result"
    }
   ],
   "source": [
    "df.Size.unique()"
   ]
  },
  {
   "cell_type": "markdown",
   "metadata": {},
   "source": [
    "We can quickly see that app sizes appear in both kilobytes and megabytes, and that some even use the string 'varies with device'. In order to better work with this data, we'll first change the string to NaN, and will convert the sizes to number of bytes.\n",
    "\n",
    "The first step in this process is to split the number off from the 'k' and 'M' designations in the Size column."
   ]
  },
  {
   "cell_type": "code",
   "execution_count": 83,
   "metadata": {
    "collapsed": true
   },
   "outputs": [],
   "source": [
    "df['Size1'] = df.Size.str[0:-1]\n",
    "df['Size2'] = df.Size.str[-1:]"
   ]
  },
  {
   "cell_type": "markdown",
   "metadata": {},
   "source": [
    "Now we'll convert the Size1 column to numeric values, and will have the errors (i.e., the string values) switched to NaN values."
   ]
  },
  {
   "cell_type": "code",
   "execution_count": 84,
   "metadata": {
    "collapsed": false
   },
   "outputs": [
    {
     "data": {
      "text/html": [
       "<div>\n",
       "<table border=\"1\" class=\"dataframe\">\n",
       "  <thead>\n",
       "    <tr style=\"text-align: right;\">\n",
       "      <th></th>\n",
       "      <th>App</th>\n",
       "      <th>Category</th>\n",
       "      <th>Rating</th>\n",
       "      <th>Reviews</th>\n",
       "      <th>Size</th>\n",
       "      <th>Installs</th>\n",
       "      <th>Type</th>\n",
       "      <th>Price</th>\n",
       "      <th>Content Rating</th>\n",
       "      <th>Genres</th>\n",
       "      <th>Last Updated</th>\n",
       "      <th>Current Ver</th>\n",
       "      <th>Android Ver</th>\n",
       "      <th>Genre1</th>\n",
       "      <th>Genre2</th>\n",
       "      <th>Price_Cat</th>\n",
       "      <th>Size1</th>\n",
       "      <th>Size2</th>\n",
       "    </tr>\n",
       "  </thead>\n",
       "  <tbody>\n",
       "    <tr>\n",
       "      <th>0</th>\n",
       "      <td>Photo Editor &amp; Candy Camera &amp; Grid &amp; ScrapBook</td>\n",
       "      <td>ART_AND_DESIGN</td>\n",
       "      <td>4.1</td>\n",
       "      <td>159</td>\n",
       "      <td>19M</td>\n",
       "      <td>10000</td>\n",
       "      <td>Free</td>\n",
       "      <td>0</td>\n",
       "      <td>Everyone</td>\n",
       "      <td>Art &amp; Design</td>\n",
       "      <td>2018-01-07</td>\n",
       "      <td>1.0.0</td>\n",
       "      <td>4.0.3 and up</td>\n",
       "      <td>Art &amp; Design</td>\n",
       "      <td>NaN</td>\n",
       "      <td>Free</td>\n",
       "      <td>19.0</td>\n",
       "      <td>M</td>\n",
       "    </tr>\n",
       "    <tr>\n",
       "      <th>1</th>\n",
       "      <td>Coloring book moana</td>\n",
       "      <td>ART_AND_DESIGN</td>\n",
       "      <td>3.9</td>\n",
       "      <td>967</td>\n",
       "      <td>14M</td>\n",
       "      <td>500000</td>\n",
       "      <td>Free</td>\n",
       "      <td>0</td>\n",
       "      <td>Everyone</td>\n",
       "      <td>Art &amp; Design;Pretend Play</td>\n",
       "      <td>2018-01-15</td>\n",
       "      <td>2.0.0</td>\n",
       "      <td>4.0.3 and up</td>\n",
       "      <td>Art &amp; Design</td>\n",
       "      <td>Pretend Play</td>\n",
       "      <td>Free</td>\n",
       "      <td>14.0</td>\n",
       "      <td>M</td>\n",
       "    </tr>\n",
       "    <tr>\n",
       "      <th>2</th>\n",
       "      <td>U Launcher Lite – FREE Live Cool Themes, Hide ...</td>\n",
       "      <td>ART_AND_DESIGN</td>\n",
       "      <td>4.7</td>\n",
       "      <td>87510</td>\n",
       "      <td>8.7M</td>\n",
       "      <td>5000000</td>\n",
       "      <td>Free</td>\n",
       "      <td>0</td>\n",
       "      <td>Everyone</td>\n",
       "      <td>Art &amp; Design</td>\n",
       "      <td>2018-08-01</td>\n",
       "      <td>1.2.4</td>\n",
       "      <td>4.0.3 and up</td>\n",
       "      <td>Art &amp; Design</td>\n",
       "      <td>NaN</td>\n",
       "      <td>Free</td>\n",
       "      <td>8.7</td>\n",
       "      <td>M</td>\n",
       "    </tr>\n",
       "    <tr>\n",
       "      <th>3</th>\n",
       "      <td>Sketch - Draw &amp; Paint</td>\n",
       "      <td>ART_AND_DESIGN</td>\n",
       "      <td>4.5</td>\n",
       "      <td>215644</td>\n",
       "      <td>25M</td>\n",
       "      <td>50000000</td>\n",
       "      <td>Free</td>\n",
       "      <td>0</td>\n",
       "      <td>Teen</td>\n",
       "      <td>Art &amp; Design</td>\n",
       "      <td>2018-06-08</td>\n",
       "      <td>Varies with device</td>\n",
       "      <td>4.2 and up</td>\n",
       "      <td>Art &amp; Design</td>\n",
       "      <td>NaN</td>\n",
       "      <td>Free</td>\n",
       "      <td>25.0</td>\n",
       "      <td>M</td>\n",
       "    </tr>\n",
       "    <tr>\n",
       "      <th>4</th>\n",
       "      <td>Pixel Draw - Number Art Coloring Book</td>\n",
       "      <td>ART_AND_DESIGN</td>\n",
       "      <td>4.3</td>\n",
       "      <td>967</td>\n",
       "      <td>2.8M</td>\n",
       "      <td>100000</td>\n",
       "      <td>Free</td>\n",
       "      <td>0</td>\n",
       "      <td>Everyone</td>\n",
       "      <td>Art &amp; Design;Creativity</td>\n",
       "      <td>2018-06-20</td>\n",
       "      <td>1.1</td>\n",
       "      <td>4.4 and up</td>\n",
       "      <td>Art &amp; Design</td>\n",
       "      <td>Creativity</td>\n",
       "      <td>Free</td>\n",
       "      <td>2.8</td>\n",
       "      <td>M</td>\n",
       "    </tr>\n",
       "  </tbody>\n",
       "</table>\n",
       "</div>"
      ],
      "text/plain": [
       "                                                 App        Category  Rating  \\\n",
       "0     Photo Editor & Candy Camera & Grid & ScrapBook  ART_AND_DESIGN     4.1   \n",
       "1                                Coloring book moana  ART_AND_DESIGN     3.9   \n",
       "2  U Launcher Lite – FREE Live Cool Themes, Hide ...  ART_AND_DESIGN     4.7   \n",
       "3                              Sketch - Draw & Paint  ART_AND_DESIGN     4.5   \n",
       "4              Pixel Draw - Number Art Coloring Book  ART_AND_DESIGN     4.3   \n",
       "\n",
       "   Reviews  Size  Installs  Type  Price Content Rating  \\\n",
       "0      159   19M     10000  Free      0       Everyone   \n",
       "1      967   14M    500000  Free      0       Everyone   \n",
       "2    87510  8.7M   5000000  Free      0       Everyone   \n",
       "3   215644   25M  50000000  Free      0           Teen   \n",
       "4      967  2.8M    100000  Free      0       Everyone   \n",
       "\n",
       "                      Genres Last Updated         Current Ver   Android Ver  \\\n",
       "0               Art & Design   2018-01-07               1.0.0  4.0.3 and up   \n",
       "1  Art & Design;Pretend Play   2018-01-15               2.0.0  4.0.3 and up   \n",
       "2               Art & Design   2018-08-01               1.2.4  4.0.3 and up   \n",
       "3               Art & Design   2018-06-08  Varies with device    4.2 and up   \n",
       "4    Art & Design;Creativity   2018-06-20                 1.1    4.4 and up   \n",
       "\n",
       "         Genre1        Genre2 Price_Cat  Size1 Size2  \n",
       "0  Art & Design           NaN      Free   19.0     M  \n",
       "1  Art & Design  Pretend Play      Free   14.0     M  \n",
       "2  Art & Design           NaN      Free    8.7     M  \n",
       "3  Art & Design           NaN      Free   25.0     M  \n",
       "4  Art & Design    Creativity      Free    2.8     M  "
      ]
     },
     "execution_count": 84,
     "metadata": {},
     "output_type": "execute_result"
    }
   ],
   "source": [
    "df.Size1 = pd.to_numeric(df.Size1, errors='coerce')\n",
    "df.head()"
   ]
  },
  {
   "cell_type": "markdown",
   "metadata": {},
   "source": [
    "Our columns have successfully been created, so now we need to multiply the values in the Size1 column by either 1,000 or 1,000,000, depending on the value in the Size2 column."
   ]
  },
  {
   "cell_type": "code",
   "execution_count": 85,
   "metadata": {
    "collapsed": false
   },
   "outputs": [
    {
     "data": {
      "text/html": [
       "<div>\n",
       "<table border=\"1\" class=\"dataframe\">\n",
       "  <thead>\n",
       "    <tr style=\"text-align: right;\">\n",
       "      <th></th>\n",
       "      <th>App</th>\n",
       "      <th>Category</th>\n",
       "      <th>Rating</th>\n",
       "      <th>Reviews</th>\n",
       "      <th>Size</th>\n",
       "      <th>Installs</th>\n",
       "      <th>Type</th>\n",
       "      <th>Price</th>\n",
       "      <th>Content Rating</th>\n",
       "      <th>Genres</th>\n",
       "      <th>Last Updated</th>\n",
       "      <th>Current Ver</th>\n",
       "      <th>Android Ver</th>\n",
       "      <th>Genre1</th>\n",
       "      <th>Genre2</th>\n",
       "      <th>Price_Cat</th>\n",
       "      <th>Size1</th>\n",
       "      <th>Size2</th>\n",
       "    </tr>\n",
       "  </thead>\n",
       "  <tbody>\n",
       "    <tr>\n",
       "      <th>0</th>\n",
       "      <td>Photo Editor &amp; Candy Camera &amp; Grid &amp; ScrapBook</td>\n",
       "      <td>ART_AND_DESIGN</td>\n",
       "      <td>4.1</td>\n",
       "      <td>159</td>\n",
       "      <td>19000000</td>\n",
       "      <td>10000</td>\n",
       "      <td>Free</td>\n",
       "      <td>0</td>\n",
       "      <td>Everyone</td>\n",
       "      <td>Art &amp; Design</td>\n",
       "      <td>2018-01-07</td>\n",
       "      <td>1.0.0</td>\n",
       "      <td>4.0.3 and up</td>\n",
       "      <td>Art &amp; Design</td>\n",
       "      <td>NaN</td>\n",
       "      <td>Free</td>\n",
       "      <td>19.0</td>\n",
       "      <td>M</td>\n",
       "    </tr>\n",
       "    <tr>\n",
       "      <th>1</th>\n",
       "      <td>Coloring book moana</td>\n",
       "      <td>ART_AND_DESIGN</td>\n",
       "      <td>3.9</td>\n",
       "      <td>967</td>\n",
       "      <td>14000000</td>\n",
       "      <td>500000</td>\n",
       "      <td>Free</td>\n",
       "      <td>0</td>\n",
       "      <td>Everyone</td>\n",
       "      <td>Art &amp; Design;Pretend Play</td>\n",
       "      <td>2018-01-15</td>\n",
       "      <td>2.0.0</td>\n",
       "      <td>4.0.3 and up</td>\n",
       "      <td>Art &amp; Design</td>\n",
       "      <td>Pretend Play</td>\n",
       "      <td>Free</td>\n",
       "      <td>14.0</td>\n",
       "      <td>M</td>\n",
       "    </tr>\n",
       "    <tr>\n",
       "      <th>2</th>\n",
       "      <td>U Launcher Lite – FREE Live Cool Themes, Hide ...</td>\n",
       "      <td>ART_AND_DESIGN</td>\n",
       "      <td>4.7</td>\n",
       "      <td>87510</td>\n",
       "      <td>8700000</td>\n",
       "      <td>5000000</td>\n",
       "      <td>Free</td>\n",
       "      <td>0</td>\n",
       "      <td>Everyone</td>\n",
       "      <td>Art &amp; Design</td>\n",
       "      <td>2018-08-01</td>\n",
       "      <td>1.2.4</td>\n",
       "      <td>4.0.3 and up</td>\n",
       "      <td>Art &amp; Design</td>\n",
       "      <td>NaN</td>\n",
       "      <td>Free</td>\n",
       "      <td>8.7</td>\n",
       "      <td>M</td>\n",
       "    </tr>\n",
       "    <tr>\n",
       "      <th>3</th>\n",
       "      <td>Sketch - Draw &amp; Paint</td>\n",
       "      <td>ART_AND_DESIGN</td>\n",
       "      <td>4.5</td>\n",
       "      <td>215644</td>\n",
       "      <td>25000000</td>\n",
       "      <td>50000000</td>\n",
       "      <td>Free</td>\n",
       "      <td>0</td>\n",
       "      <td>Teen</td>\n",
       "      <td>Art &amp; Design</td>\n",
       "      <td>2018-06-08</td>\n",
       "      <td>Varies with device</td>\n",
       "      <td>4.2 and up</td>\n",
       "      <td>Art &amp; Design</td>\n",
       "      <td>NaN</td>\n",
       "      <td>Free</td>\n",
       "      <td>25.0</td>\n",
       "      <td>M</td>\n",
       "    </tr>\n",
       "    <tr>\n",
       "      <th>4</th>\n",
       "      <td>Pixel Draw - Number Art Coloring Book</td>\n",
       "      <td>ART_AND_DESIGN</td>\n",
       "      <td>4.3</td>\n",
       "      <td>967</td>\n",
       "      <td>2800000</td>\n",
       "      <td>100000</td>\n",
       "      <td>Free</td>\n",
       "      <td>0</td>\n",
       "      <td>Everyone</td>\n",
       "      <td>Art &amp; Design;Creativity</td>\n",
       "      <td>2018-06-20</td>\n",
       "      <td>1.1</td>\n",
       "      <td>4.4 and up</td>\n",
       "      <td>Art &amp; Design</td>\n",
       "      <td>Creativity</td>\n",
       "      <td>Free</td>\n",
       "      <td>2.8</td>\n",
       "      <td>M</td>\n",
       "    </tr>\n",
       "  </tbody>\n",
       "</table>\n",
       "</div>"
      ],
      "text/plain": [
       "                                                 App        Category  Rating  \\\n",
       "0     Photo Editor & Candy Camera & Grid & ScrapBook  ART_AND_DESIGN     4.1   \n",
       "1                                Coloring book moana  ART_AND_DESIGN     3.9   \n",
       "2  U Launcher Lite – FREE Live Cool Themes, Hide ...  ART_AND_DESIGN     4.7   \n",
       "3                              Sketch - Draw & Paint  ART_AND_DESIGN     4.5   \n",
       "4              Pixel Draw - Number Art Coloring Book  ART_AND_DESIGN     4.3   \n",
       "\n",
       "   Reviews      Size  Installs  Type  Price Content Rating  \\\n",
       "0      159  19000000     10000  Free      0       Everyone   \n",
       "1      967  14000000    500000  Free      0       Everyone   \n",
       "2    87510   8700000   5000000  Free      0       Everyone   \n",
       "3   215644  25000000  50000000  Free      0           Teen   \n",
       "4      967   2800000    100000  Free      0       Everyone   \n",
       "\n",
       "                      Genres Last Updated         Current Ver   Android Ver  \\\n",
       "0               Art & Design   2018-01-07               1.0.0  4.0.3 and up   \n",
       "1  Art & Design;Pretend Play   2018-01-15               2.0.0  4.0.3 and up   \n",
       "2               Art & Design   2018-08-01               1.2.4  4.0.3 and up   \n",
       "3               Art & Design   2018-06-08  Varies with device    4.2 and up   \n",
       "4    Art & Design;Creativity   2018-06-20                 1.1    4.4 and up   \n",
       "\n",
       "         Genre1        Genre2 Price_Cat  Size1 Size2  \n",
       "0  Art & Design           NaN      Free   19.0     M  \n",
       "1  Art & Design  Pretend Play      Free   14.0     M  \n",
       "2  Art & Design           NaN      Free    8.7     M  \n",
       "3  Art & Design           NaN      Free   25.0     M  \n",
       "4  Art & Design    Creativity      Free    2.8     M  "
      ]
     },
     "execution_count": 85,
     "metadata": {},
     "output_type": "execute_result"
    }
   ],
   "source": [
    "def size_convert(x, y):\n",
    "    if x == 'M':\n",
    "        return int(y * 1000000)\n",
    "    elif x == 'k':\n",
    "        return y * 1000\n",
    "    else:\n",
    "        return x\n",
    "\n",
    "df['Size'] = df.apply(lambda x: size_convert(x.Size2, x.Size1), axis=1)\n",
    "df.head()"
   ]
  },
  {
   "cell_type": "markdown",
   "metadata": {},
   "source": [
    "Our conversion was successful, and the Size column now includes the total number of bytes. \n",
    "\n",
    "For the next step in this conversion, we will convert the Size column to a numeric data type, and will then divide each value by 1,000,000.  This way, all of the values are uniformly shown in Mbs."
   ]
  },
  {
   "cell_type": "code",
   "execution_count": 86,
   "metadata": {
    "collapsed": true
   },
   "outputs": [],
   "source": [
    "df.Size = pd.to_numeric(df.Size, errors='coerce')\n",
    "df['Size_Mb'] = df['Size'] / 1000000"
   ]
  },
  {
   "cell_type": "markdown",
   "metadata": {},
   "source": [
    "Because we want to examine trends on app size, the NaN values are not currently relevant. For now we will assign these values to zero, but they will be reassigned in the function that follows."
   ]
  },
  {
   "cell_type": "code",
   "execution_count": 88,
   "metadata": {
    "collapsed": true
   },
   "outputs": [],
   "source": [
    "df['Size_Mb'].fillna(0, inplace=True)"
   ]
  },
  {
   "cell_type": "markdown",
   "metadata": {},
   "source": [
    "As we did with the price analysis, we will now group these values into chunks, and then plot them to look for any trends."
   ]
  },
  {
   "cell_type": "code",
   "execution_count": 90,
   "metadata": {
    "collapsed": true
   },
   "outputs": [],
   "source": [
    "def add_size_cat(row):\n",
    "    if row[\"Size_Mb\"] == 0:\n",
    "        return \"Varies\"\n",
    "    elif row[\"Size_Mb\"] < 10:\n",
    "        return \"0.1Mb to 10Mb\"\n",
    "    elif row[\"Size_Mb\"] < 20:\n",
    "        return \"10.1Mb to 20Mb\"\n",
    "    elif row[\"Size_Mb\"] < 30:\n",
    "        return \"20.1Mb to 30Mb\"\n",
    "    elif row[\"Size_Mb\"] < 40:\n",
    "        return \"30.1Mb to 40Mb\"\n",
    "    elif row[\"Size_Mb\"] < 50:\n",
    "        return \"40.1Mb to 50Mb\"\n",
    "    elif row[\"Size_Mb\"] < 60:\n",
    "        return \"50.1Mb to 60Mb\"\n",
    "    else:\n",
    "        return \"Over 60Mb\""
   ]
  },
  {
   "cell_type": "code",
   "execution_count": 91,
   "metadata": {
    "collapsed": true
   },
   "outputs": [],
   "source": [
    "df[\"Size_Cat\"] = df.apply(add_size_cat, axis=1)"
   ]
  },
  {
   "cell_type": "code",
   "execution_count": 92,
   "metadata": {
    "collapsed": false
   },
   "outputs": [
    {
     "name": "stderr",
     "output_type": "stream",
     "text": [
      "/Library/Python/2.7/site-packages/ipykernel/__main__.py:1: UserWarning: The spaces in these column names will not be changed. In pandas versions < 0.14, spaces were converted to underscores.\n",
      "  if __name__ == '__main__':\n"
     ]
    }
   ],
   "source": [
    "df.to_sql('appdata', conn, if_exists='replace')"
   ]
  },
  {
   "cell_type": "code",
   "execution_count": 93,
   "metadata": {
    "collapsed": false
   },
   "outputs": [
    {
     "name": "stdout",
     "output_type": "stream",
     "text": [
      "         Size_Cat    Installs\n",
      "0   0.1Mb to 10Mb  4199754329\n",
      "1  10.1Mb to 20Mb  6204003459\n",
      "2  20.1Mb to 30Mb  3753239930\n",
      "3  30.1Mb to 40Mb  2554446882\n",
      "4  40.1Mb to 50Mb  2902128071\n",
      "5  50.1Mb to 60Mb  3374093366\n",
      "6       Over 60Mb  8414891467\n"
     ]
    }
   ],
   "source": [
    "installs_by_size = pd.read_sql('SELECT Size_Cat, SUM(Installs) as Installs \\\n",
    "            FROM appdata \\\n",
    "            WHERE Size_Cat != \"Varies\" \\\n",
    "            GROUP BY 1 \\\n",
    "            ORDER BY 1 \\\n",
    "            LIMIT 10', conn)\n",
    "\n",
    "print installs_by_size"
   ]
  },
  {
   "cell_type": "code",
   "execution_count": 94,
   "metadata": {
    "collapsed": false
   },
   "outputs": [
    {
     "data": {
      "image/png": "[encoded data removed]",
      "text/plain": [
       "<matplotlib.figure.Figure at 0x10483aa10>"
      ]
     },
     "metadata": {},
     "output_type": "display_data"
    }
   ],
   "source": [
    "labels = ['0.1-10Mb', '10.1-20Mb', '20.1-30Mb', '30.1-40Mb','40.1-50Mb', '50.1-60Mb', 'Over 60Mb']\n",
    "x = range(len(labels))\n",
    "y = installs_by_size['Installs']\n",
    "\n",
    "plt.figure(figsize=(10, 6))\n",
    "ax = plt.subplot()\n",
    "plt.bar(x, y, color='darkcyan')\n",
    "\n",
    "ax.set_xticks(range(len(labels)))\n",
    "ax.set_xticks([float(n)+0.5 for n in ax.get_xticks()])\n",
    "ax.set_xticklabels(labels)\n",
    "\n",
    "plt.xlabel('App Size')\n",
    "plt.ylabel('Number of Installs (mm)')\n",
    "plt.title('App Downloads by App Size', fontdict = {'fontsize' : 15});"
   ]
  },
  {
   "cell_type": "markdown",
   "metadata": {},
   "source": [
    "Or, if we wanted to take advantage of Seaborn's color palettes, we could plot as follows."
   ]
  },
  {
   "cell_type": "code",
   "execution_count": 95,
   "metadata": {
    "collapsed": false
   },
   "outputs": [
    {
     "data": {
      "image/png": "[encoded data removed]",
      "text/plain": [
       "<matplotlib.figure.Figure at 0x105d53790>"
      ]
     },
     "metadata": {},
     "output_type": "display_data"
    }
   ],
   "source": [
    "sns.set_palette('bright')\n",
    "sns.barplot(data=installs_by_size, x='Size_Cat', y='Installs', estimator=sum)\n",
    "ax = plt.subplot()\n",
    "ax.set_xticklabels(labels)\n",
    "plt.xticks(rotation=45)\n",
    "plt.xlabel('App Size')\n",
    "plt.ylabel('Number of Installs (mm)')\n",
    "plt.title('Downloads by App Size');"
   ]
  },
  {
   "cell_type": "markdown",
   "metadata": {},
   "source": [
    "From this, we can see that app size doesn't have quite as much impact on the number of downloads as price did.  So while we would probably want to keep our app in the 10-20Mb range, there's a little more flexibility if it's determined that the app needs to be larger than that."
   ]
  },
  {
   "cell_type": "markdown",
   "metadata": {},
   "source": [
    "### Summary"
   ]
  },
  {
   "cell_type": "markdown",
   "metadata": {},
   "source": [
    "From this initial look at Google Play Store app data, our imaginary startup is well on its way to planning its first app launch. In order to reach our goal of maximizing downloads (and spreading the word of our new company), we now know that the app should cost less than \\$3.00, and ideally be around 10-20Mb.  \n",
    "\n",
    "Future updates to this analysis will explore how content rating and genre impact the number of downloads."
   ]
  },
  {
   "cell_type": "code",
   "execution_count": null,
   "metadata": {
    "collapsed": true
   },
   "outputs": [],
   "source": []
  }
 ],
 "metadata": {
  "kernelspec": {
   "display_name": "Python 2",
   "language": "python",
   "name": "python2"
  },
  "language_info": {
   "codemirror_mode": {
    "name": "ipython",
    "version": 2
   },
   "file_extension": ".py",
   "mimetype": "text/x-python",
   "name": "python",
   "nbconvert_exporter": "python",
   "pygments_lexer": "ipython2",
   "version": "2.7.10"
  }
 },
 "nbformat": 4,
 "nbformat_minor": 0
}
